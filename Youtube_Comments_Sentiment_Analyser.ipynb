{
 "cells": [
  {
   "cell_type": "markdown",
   "id": "409d3650-147c-4933-b8da-591e5d2ef37b",
   "metadata": {},
   "source": [
    "# **Youtube Comments Sentiment Analysis**\n",
    "\n",
    "Get YouTube Comments — Given a YouTube video you need to fetch the comments on that video. This can be accomplished by using the APIs from YouTube."
   ]
  },
  {
   "cell_type": "markdown",
   "id": "041b54a7-9c37-44f1-adc1-bbd6d21d9e2d",
   "metadata": {},
   "source": [
    "# **1. Data selection**\n",
    "*  I created my own dataset using the Google Youtube Data API version 3.0. The exact steps of data creation is presented in section.\n",
    "\n",
    "*  The dataset used in this research is a real-world dataset, making it well-suited for our study. However, it's important to note that the selection of YouTube channels included in this research is based solely on my familiarity with channels in the field of data science. This selection may not be entirely comprehensive or universally representative. For the purposes of this sentiment analysis, we focus on the \"First 10 Comments\" from each video within these channels, along with the video titles."
   ]
  },
  {
   "cell_type": "markdown",
   "id": "e881f479-68bd-4319-a27e-3327142f1901",
   "metadata": {},
   "source": [
    "# **2. Aims and objectives**\n",
    "\n",
    "> **Within this project, I would like to explore the following:**\n",
    "\n",
    "* Explore the trending topics using Sentiment Analysis techniques\n",
    "\n",
    "    * Which questions are being asked in the comment sections in the videos "
   ]
  },
  {
   "cell_type": "markdown",
   "id": "bedc3b49-30ef-493b-ba79-3147a4b28632",
   "metadata": {},
   "source": [
    "# **3. Steps of the project**\n",
    "1.   Obtain video meta data via the Youtube API for the first 10 comments on each video on the Youtube channel in the data science niche. (this includes several small steps: create a developer key, request data, and transform the responses into a usable data format.)\n",
    "2.   Prepocess data and engineer additional features for analysis\n",
    "3.   Exploratory data analysis\n",
    "4.   Conclusions\n"
   ]
  },
  {
   "cell_type": "markdown",
   "id": "107a5fc0-5faf-4b7d-bb28-59ab2d496103",
   "metadata": {},
   "source": [
    "# Importing Libraries\n",
    "\n",
    "*  Run the following commands to prepare a virtual environment and install the required packages."
   ]
  },
  {
   "cell_type": "code",
   "execution_count": 70,
   "id": "4f91843f-2449-4af3-8a5d-71cd6cfeba27",
   "metadata": {},
   "outputs": [
    {
     "name": "stderr",
     "output_type": "stream",
     "text": [
      "[nltk_data] Downloading package vader_lexicon to\n",
      "[nltk_data]     C:\\Users\\Khunkan\\AppData\\Roaming\\nltk_data...\n",
      "[nltk_data]   Package vader_lexicon is already up-to-date!\n",
      "[nltk_data] Downloading package wordnet to\n",
      "[nltk_data]     C:\\Users\\Khunkan\\AppData\\Roaming\\nltk_data...\n"
     ]
    },
    {
     "data": {
      "text/plain": [
       "True"
      ]
     },
     "execution_count": 70,
     "metadata": {},
     "output_type": "execute_result"
    }
   ],
   "source": [
    "#Libraries \n",
    "import numpy as np\n",
    "import pandas as pd \n",
    "import seaborn as sns\n",
    "import matplotlib.pyplot as plt\n",
    "%matplotlib inline\n",
    "import os\n",
    "\n",
    "# Import functions for data preprocessing & data preparation\n",
    "from sklearn.preprocessing import LabelEncoder\n",
    "from sklearn.utils import resample\n",
    "from sklearn.feature_extraction.text import CountVectorizer\n",
    "from nltk.sentiment.vader import SentimentIntensityAnalyzer\n",
    "\n",
    "from nltk.sentiment.vader import SentimentIntensityAnalyzer\n",
    "from nltk.tokenize import word_tokenize\n",
    "from nltk.stem import WordNetLemmatizer\n",
    "from nltk.stem import PorterStemmer, LancasterStemmer\n",
    "from nltk.stem.snowball import SnowballStemmer\n",
    "from nltk.corpus import stopwords\n",
    "from nltk.corpus import wordnet\n",
    "import string\n",
    "from string import punctuation\n",
    "import nltk\n",
    "import re\n",
    "\n",
    "# The ast module in Python stands for \"Abstract Syntax Tree\"\n",
    "import ast\n",
    "import nltk\n",
    "nltk.download('vader_lexicon')\n",
    "nltk.download('wordnet')"
   ]
  },
  {
   "cell_type": "markdown",
   "id": "7743bdbe-59fa-4a7e-93d5-68afb728b15f",
   "metadata": {},
   "source": [
    "# Read data from \"Exploratory Data Analysing Using Youtube\" Project"
   ]
  },
  {
   "cell_type": "code",
   "execution_count": 2,
   "id": "b90ad622-c1cf-403a-a416-64a867d0e12a",
   "metadata": {},
   "outputs": [
    {
     "data": {
      "text/html": [
       "<div>\n",
       "<style scoped>\n",
       "    .dataframe tbody tr th:only-of-type {\n",
       "        vertical-align: middle;\n",
       "    }\n",
       "\n",
       "    .dataframe tbody tr th {\n",
       "        vertical-align: top;\n",
       "    }\n",
       "\n",
       "    .dataframe thead th {\n",
       "        text-align: right;\n",
       "    }\n",
       "</style>\n",
       "<table border=\"1\" class=\"dataframe\">\n",
       "  <thead>\n",
       "    <tr style=\"text-align: right;\">\n",
       "      <th></th>\n",
       "      <th>video_id</th>\n",
       "      <th>channelTitle</th>\n",
       "      <th>title</th>\n",
       "      <th>description</th>\n",
       "      <th>tags</th>\n",
       "      <th>publishedAt</th>\n",
       "      <th>viewCount</th>\n",
       "      <th>likeCount</th>\n",
       "      <th>favoriteCount</th>\n",
       "      <th>commentCount</th>\n",
       "      <th>duration</th>\n",
       "      <th>definition</th>\n",
       "      <th>caption</th>\n",
       "    </tr>\n",
       "  </thead>\n",
       "  <tbody>\n",
       "    <tr>\n",
       "      <th>0</th>\n",
       "      <td>pT3kE5hExGc</td>\n",
       "      <td>Data Professor</td>\n",
       "      <td>Streamlit LLM Hackathon</td>\n",
       "      <td>If large language models and generative AI sou...</td>\n",
       "      <td>NaN</td>\n",
       "      <td>2023-09-08T09:10:04Z</td>\n",
       "      <td>4243</td>\n",
       "      <td>93</td>\n",
       "      <td>0</td>\n",
       "      <td>12</td>\n",
       "      <td>PT3M27S</td>\n",
       "      <td>hd</td>\n",
       "      <td>False</td>\n",
       "    </tr>\n",
       "    <tr>\n",
       "      <th>1</th>\n",
       "      <td>T_iE6TT7pS8</td>\n",
       "      <td>Data Professor</td>\n",
       "      <td>How to Use the Open-Source Hugging Chat API in...</td>\n",
       "      <td>In this video, you'll learn how to use the uno...</td>\n",
       "      <td>['huggingchat', 'hugging chat', 'hugging chat ...</td>\n",
       "      <td>2023-08-28T05:05:38Z</td>\n",
       "      <td>2188</td>\n",
       "      <td>77</td>\n",
       "      <td>0</td>\n",
       "      <td>16</td>\n",
       "      <td>PT7M38S</td>\n",
       "      <td>hd</td>\n",
       "      <td>False</td>\n",
       "    </tr>\n",
       "    <tr>\n",
       "      <th>2</th>\n",
       "      <td>kvJf8s18Vr4</td>\n",
       "      <td>Data Professor</td>\n",
       "      <td>How to use GitHub Codespaces for Coding and Da...</td>\n",
       "      <td>In this video, you'll learn how to use GitHub ...</td>\n",
       "      <td>['GitHub', 'GitHub Codespaces', 'GitHub tutori...</td>\n",
       "      <td>2023-08-21T01:00:30Z</td>\n",
       "      <td>3282</td>\n",
       "      <td>149</td>\n",
       "      <td>0</td>\n",
       "      <td>8</td>\n",
       "      <td>PT11M53S</td>\n",
       "      <td>hd</td>\n",
       "      <td>False</td>\n",
       "    </tr>\n",
       "    <tr>\n",
       "      <th>3</th>\n",
       "      <td>Lxj4GfJCvxA</td>\n",
       "      <td>Data Professor</td>\n",
       "      <td>Introducing the Mito Streamlit component</td>\n",
       "      <td>In this video, Jake (co-founder of Mito, a Y C...</td>\n",
       "      <td>['mito', 'streamlit component', 'mito streamli...</td>\n",
       "      <td>2023-08-14T07:29:14Z</td>\n",
       "      <td>1137</td>\n",
       "      <td>37</td>\n",
       "      <td>0</td>\n",
       "      <td>4</td>\n",
       "      <td>PT4M32S</td>\n",
       "      <td>hd</td>\n",
       "      <td>False</td>\n",
       "    </tr>\n",
       "    <tr>\n",
       "      <th>4</th>\n",
       "      <td>dBoQLktIkOo</td>\n",
       "      <td>Data Professor</td>\n",
       "      <td>How to use the Llama 2 LLM in Python</td>\n",
       "      <td>In this video, you'll learn how to use the Lla...</td>\n",
       "      <td>NaN</td>\n",
       "      <td>2023-08-01T03:23:49Z</td>\n",
       "      <td>27247</td>\n",
       "      <td>376</td>\n",
       "      <td>0</td>\n",
       "      <td>24</td>\n",
       "      <td>PT4M51S</td>\n",
       "      <td>hd</td>\n",
       "      <td>False</td>\n",
       "    </tr>\n",
       "  </tbody>\n",
       "</table>\n",
       "</div>"
      ],
      "text/plain": [
       "      video_id    channelTitle  \\\n",
       "0  pT3kE5hExGc  Data Professor   \n",
       "1  T_iE6TT7pS8  Data Professor   \n",
       "2  kvJf8s18Vr4  Data Professor   \n",
       "3  Lxj4GfJCvxA  Data Professor   \n",
       "4  dBoQLktIkOo  Data Professor   \n",
       "\n",
       "                                               title  \\\n",
       "0                            Streamlit LLM Hackathon   \n",
       "1  How to Use the Open-Source Hugging Chat API in...   \n",
       "2  How to use GitHub Codespaces for Coding and Da...   \n",
       "3           Introducing the Mito Streamlit component   \n",
       "4               How to use the Llama 2 LLM in Python   \n",
       "\n",
       "                                         description  \\\n",
       "0  If large language models and generative AI sou...   \n",
       "1  In this video, you'll learn how to use the uno...   \n",
       "2  In this video, you'll learn how to use GitHub ...   \n",
       "3  In this video, Jake (co-founder of Mito, a Y C...   \n",
       "4  In this video, you'll learn how to use the Lla...   \n",
       "\n",
       "                                                tags           publishedAt  \\\n",
       "0                                                NaN  2023-09-08T09:10:04Z   \n",
       "1  ['huggingchat', 'hugging chat', 'hugging chat ...  2023-08-28T05:05:38Z   \n",
       "2  ['GitHub', 'GitHub Codespaces', 'GitHub tutori...  2023-08-21T01:00:30Z   \n",
       "3  ['mito', 'streamlit component', 'mito streamli...  2023-08-14T07:29:14Z   \n",
       "4                                                NaN  2023-08-01T03:23:49Z   \n",
       "\n",
       "   viewCount  likeCount  favoriteCount  commentCount  duration definition  \\\n",
       "0       4243         93              0            12   PT3M27S         hd   \n",
       "1       2188         77              0            16   PT7M38S         hd   \n",
       "2       3282        149              0             8  PT11M53S         hd   \n",
       "3       1137         37              0             4   PT4M32S         hd   \n",
       "4      27247        376              0            24   PT4M51S         hd   \n",
       "\n",
       "   caption  \n",
       "0    False  \n",
       "1    False  \n",
       "2    False  \n",
       "3    False  \n",
       "4    False  "
      ]
     },
     "execution_count": 2,
     "metadata": {},
     "output_type": "execute_result"
    }
   ],
   "source": [
    "video_df = pd.read_csv('./data/video_df.csv')\n",
    "video_df.head()"
   ]
  },
  {
   "cell_type": "code",
   "execution_count": 3,
   "id": "65b38bcb-f427-49d8-8b59-1df3ae1fd8c3",
   "metadata": {},
   "outputs": [
    {
     "data": {
      "text/html": [
       "<div>\n",
       "<style scoped>\n",
       "    .dataframe tbody tr th:only-of-type {\n",
       "        vertical-align: middle;\n",
       "    }\n",
       "\n",
       "    .dataframe tbody tr th {\n",
       "        vertical-align: top;\n",
       "    }\n",
       "\n",
       "    .dataframe thead th {\n",
       "        text-align: right;\n",
       "    }\n",
       "</style>\n",
       "<table border=\"1\" class=\"dataframe\">\n",
       "  <thead>\n",
       "    <tr style=\"text-align: right;\">\n",
       "      <th></th>\n",
       "      <th>video_id</th>\n",
       "      <th>comments</th>\n",
       "    </tr>\n",
       "  </thead>\n",
       "  <tbody>\n",
       "    <tr>\n",
       "      <th>0</th>\n",
       "      <td>pT3kE5hExGc</td>\n",
       "      <td>['Hi Professor, How are you. once you taught h...</td>\n",
       "    </tr>\n",
       "    <tr>\n",
       "      <th>1</th>\n",
       "      <td>T_iE6TT7pS8</td>\n",
       "      <td>['Great idea for my next project. Thanks a lot...</td>\n",
       "    </tr>\n",
       "    <tr>\n",
       "      <th>2</th>\n",
       "      <td>kvJf8s18Vr4</td>\n",
       "      <td>['I have GitHub student dev pack should I use ...</td>\n",
       "    </tr>\n",
       "    <tr>\n",
       "      <th>3</th>\n",
       "      <td>Lxj4GfJCvxA</td>\n",
       "      <td>['There are many things for which I will like ...</td>\n",
       "    </tr>\n",
       "    <tr>\n",
       "      <th>4</th>\n",
       "      <td>dBoQLktIkOo</td>\n",
       "      <td>['Where does we get \"llm model path\" which you...</td>\n",
       "    </tr>\n",
       "  </tbody>\n",
       "</table>\n",
       "</div>"
      ],
      "text/plain": [
       "      video_id                                           comments\n",
       "0  pT3kE5hExGc  ['Hi Professor, How are you. once you taught h...\n",
       "1  T_iE6TT7pS8  ['Great idea for my next project. Thanks a lot...\n",
       "2  kvJf8s18Vr4  ['I have GitHub student dev pack should I use ...\n",
       "3  Lxj4GfJCvxA  ['There are many things for which I will like ...\n",
       "4  dBoQLktIkOo  ['Where does we get \"llm model path\" which you..."
      ]
     },
     "execution_count": 3,
     "metadata": {},
     "output_type": "execute_result"
    }
   ],
   "source": [
    "comment_df = pd.read_csv('./data/comments_df.csv')\n",
    "comment_df.head()"
   ]
  },
  {
   "cell_type": "markdown",
   "id": "e9c9baf8-8e21-47aa-be7e-3705edb041fc",
   "metadata": {},
   "source": [
    "# Data pre-processing"
   ]
  },
  {
   "cell_type": "markdown",
   "id": "4c927505-c57b-4e8e-b389-7bf976ea129d",
   "metadata": {},
   "source": [
    "## Exploratory data analysis\n",
    "Exploratory Data Analysis is an audit process or explore the basics It is the necessary data analysis before using the data. Alternatively, it can be utilized for insight analysis. The advantages of EDA assist us in comprehending the fundamentals of that data set, as well as exploring the missing value and imperfection of the data set."
   ]
  },
  {
   "cell_type": "code",
   "execution_count": 4,
   "id": "69c6f5cd-0a06-489f-a919-5c91c3d85c18",
   "metadata": {},
   "outputs": [
    {
     "name": "stdout",
     "output_type": "stream",
     "text": [
      "<class 'pandas.core.frame.DataFrame'>\n",
      "RangeIndex: 322 entries, 0 to 321\n",
      "Data columns (total 2 columns):\n",
      " #   Column    Non-Null Count  Dtype \n",
      "---  ------    --------------  ----- \n",
      " 0   video_id  322 non-null    object\n",
      " 1   comments  322 non-null    object\n",
      "dtypes: object(2)\n",
      "memory usage: 5.2+ KB\n"
     ]
    }
   ],
   "source": [
    "comment_df.info()"
   ]
  },
  {
   "cell_type": "markdown",
   "id": "fb2f3d07-8d3b-4ee2-a7de-c32e19c69b53",
   "metadata": {},
   "source": [
    "Explor missing value by dataset.isnull().sum() in dataset"
   ]
  },
  {
   "cell_type": "code",
   "execution_count": 5,
   "id": "34751ccc-06ca-442a-98c8-05f487773650",
   "metadata": {},
   "outputs": [
    {
     "data": {
      "text/plain": [
       "video_id    0\n",
       "comments    0\n",
       "dtype: int64"
      ]
     },
     "execution_count": 5,
     "metadata": {},
     "output_type": "execute_result"
    }
   ],
   "source": [
    "comment_df.isnull().sum()"
   ]
  },
  {
   "cell_type": "markdown",
   "id": "39df867b-b515-4054-a23a-b3ead5ecd62f",
   "metadata": {},
   "source": [
    "**Merge DataFrame with a database-style join.**\n",
    "\n",
    "a named Series object is essentially treated as a DataFrame with a single named column. I want to perform a join operation based on the 'video_id' column. Specifically, I aim to take the 'title' column from the 'video_df' DataFrame and incorporate it into the 'comment_df' DataFrame.\""
   ]
  },
  {
   "cell_type": "code",
   "execution_count": 6,
   "id": "07ec7230-fd8a-4357-add4-ec8739bdf647",
   "metadata": {},
   "outputs": [
    {
     "data": {
      "text/html": [
       "<div>\n",
       "<style scoped>\n",
       "    .dataframe tbody tr th:only-of-type {\n",
       "        vertical-align: middle;\n",
       "    }\n",
       "\n",
       "    .dataframe tbody tr th {\n",
       "        vertical-align: top;\n",
       "    }\n",
       "\n",
       "    .dataframe thead th {\n",
       "        text-align: right;\n",
       "    }\n",
       "</style>\n",
       "<table border=\"1\" class=\"dataframe\">\n",
       "  <thead>\n",
       "    <tr style=\"text-align: right;\">\n",
       "      <th></th>\n",
       "      <th>video_id</th>\n",
       "      <th>title</th>\n",
       "      <th>comments</th>\n",
       "    </tr>\n",
       "  </thead>\n",
       "  <tbody>\n",
       "    <tr>\n",
       "      <th>0</th>\n",
       "      <td>pT3kE5hExGc</td>\n",
       "      <td>Streamlit LLM Hackathon</td>\n",
       "      <td>['Hi Professor, How are you. once you taught h...</td>\n",
       "    </tr>\n",
       "    <tr>\n",
       "      <th>1</th>\n",
       "      <td>T_iE6TT7pS8</td>\n",
       "      <td>How to Use the Open-Source Hugging Chat API in...</td>\n",
       "      <td>['Great idea for my next project. Thanks a lot...</td>\n",
       "    </tr>\n",
       "    <tr>\n",
       "      <th>2</th>\n",
       "      <td>kvJf8s18Vr4</td>\n",
       "      <td>How to use GitHub Codespaces for Coding and Da...</td>\n",
       "      <td>['I have GitHub student dev pack should I use ...</td>\n",
       "    </tr>\n",
       "    <tr>\n",
       "      <th>3</th>\n",
       "      <td>Lxj4GfJCvxA</td>\n",
       "      <td>Introducing the Mito Streamlit component</td>\n",
       "      <td>['There are many things for which I will like ...</td>\n",
       "    </tr>\n",
       "    <tr>\n",
       "      <th>4</th>\n",
       "      <td>dBoQLktIkOo</td>\n",
       "      <td>How to use the Llama 2 LLM in Python</td>\n",
       "      <td>['Where does we get \"llm model path\" which you...</td>\n",
       "    </tr>\n",
       "    <tr>\n",
       "      <th>...</th>\n",
       "      <td>...</td>\n",
       "      <td>...</td>\n",
       "      <td>...</td>\n",
       "    </tr>\n",
       "    <tr>\n",
       "      <th>317</th>\n",
       "      <td>uoVAd_zd-90</td>\n",
       "      <td>Computational Drug Discovery: Machine Learning...</td>\n",
       "      <td>['Thank you Prof for sharing this video . I lo...</td>\n",
       "    </tr>\n",
       "    <tr>\n",
       "      <th>318</th>\n",
       "      <td>77ggqTODduQ</td>\n",
       "      <td>WEKA Tutorial #1.3 - How to Build a Data Minin...</td>\n",
       "      <td>['Wonderful!', 'Build a classification model f...</td>\n",
       "    </tr>\n",
       "    <tr>\n",
       "      <th>319</th>\n",
       "      <td>U_WEKreNuA4</td>\n",
       "      <td>WEKA Tutorial #1.2 - How to Build a Data Minin...</td>\n",
       "      <td>['❤️🙏🏻❤️', 'Please explain no. of leaves and s...</td>\n",
       "    </tr>\n",
       "    <tr>\n",
       "      <th>320</th>\n",
       "      <td>GzrmsiBsGVI</td>\n",
       "      <td>WEKA Tutorial #1.1 - How to Build a Data Minin...</td>\n",
       "      <td>['This was WAY too long. This could have effec...</td>\n",
       "    </tr>\n",
       "    <tr>\n",
       "      <th>321</th>\n",
       "      <td>IYHrZx0G12w</td>\n",
       "      <td>How a Biologist became a Data Scientist</td>\n",
       "      <td>['Have you made a similar transition to become...</td>\n",
       "    </tr>\n",
       "  </tbody>\n",
       "</table>\n",
       "<p>322 rows × 3 columns</p>\n",
       "</div>"
      ],
      "text/plain": [
       "        video_id                                              title  \\\n",
       "0    pT3kE5hExGc                            Streamlit LLM Hackathon   \n",
       "1    T_iE6TT7pS8  How to Use the Open-Source Hugging Chat API in...   \n",
       "2    kvJf8s18Vr4  How to use GitHub Codespaces for Coding and Da...   \n",
       "3    Lxj4GfJCvxA           Introducing the Mito Streamlit component   \n",
       "4    dBoQLktIkOo               How to use the Llama 2 LLM in Python   \n",
       "..           ...                                                ...   \n",
       "317  uoVAd_zd-90  Computational Drug Discovery: Machine Learning...   \n",
       "318  77ggqTODduQ  WEKA Tutorial #1.3 - How to Build a Data Minin...   \n",
       "319  U_WEKreNuA4  WEKA Tutorial #1.2 - How to Build a Data Minin...   \n",
       "320  GzrmsiBsGVI  WEKA Tutorial #1.1 - How to Build a Data Minin...   \n",
       "321  IYHrZx0G12w            How a Biologist became a Data Scientist   \n",
       "\n",
       "                                              comments  \n",
       "0    ['Hi Professor, How are you. once you taught h...  \n",
       "1    ['Great idea for my next project. Thanks a lot...  \n",
       "2    ['I have GitHub student dev pack should I use ...  \n",
       "3    ['There are many things for which I will like ...  \n",
       "4    ['Where does we get \"llm model path\" which you...  \n",
       "..                                                 ...  \n",
       "317  ['Thank you Prof for sharing this video . I lo...  \n",
       "318  ['Wonderful!', 'Build a classification model f...  \n",
       "319  ['❤️🙏🏻❤️', 'Please explain no. of leaves and s...  \n",
       "320  ['This was WAY too long. This could have effec...  \n",
       "321  ['Have you made a similar transition to become...  \n",
       "\n",
       "[322 rows x 3 columns]"
      ]
     },
     "execution_count": 6,
     "metadata": {},
     "output_type": "execute_result"
    }
   ],
   "source": [
    "comment_df = video_df.merge(comment_df, how = \"inner\",on = 'video_id')\n",
    "comment_df = comment_df[['video_id','title','comments']]\n",
    "comment_df"
   ]
  },
  {
   "cell_type": "markdown",
   "id": "5aa3f769-93d6-4ba5-9808-24220b42e6e1",
   "metadata": {},
   "source": [
    "**Formatting option**\n",
    "\n",
    "Due to the structure of the comment data, where all 10 comments are stored in a single list and separated by commas within the same row, it becomes challenging to conduct Sentiment Analysis. Therefore, there is a need to reformat the data so that each comment occupies a single row in the 'comments' column.\n",
    "\n",
    "This translation captures the challenges in analyzing the sentiment of comments when they are stored in a list within a single row, and it clarifies the need for reformatting the data."
   ]
  },
  {
   "cell_type": "code",
   "execution_count": 7,
   "id": "135df7e8-c174-4ffa-afd1-767376ce13da",
   "metadata": {},
   "outputs": [],
   "source": [
    "# Create a new DataFrame to keep the result.\n",
    "data = {'video_id': [], 'comments': []}\n",
    "\n",
    "# loop through each row of an existing DataFrame\n",
    "for index, row in comment_df.iterrows():\n",
    "    input_str = row['comments']\n",
    "    input_list = ast.literal_eval(input_str)\n",
    "    \n",
    "    for sentence in input_list:\n",
    "        data['video_id'].append(row['video_id'])\n",
    "        data['comments'].append(sentence)\n",
    "\n",
    "# Change from dictionary to DataFrame\n",
    "df = pd.DataFrame(data)"
   ]
  },
  {
   "cell_type": "code",
   "execution_count": 8,
   "id": "7f9c2751-4364-4bc6-88df-3b31ff42b53e",
   "metadata": {},
   "outputs": [
    {
     "data": {
      "text/html": [
       "<div>\n",
       "<style scoped>\n",
       "    .dataframe tbody tr th:only-of-type {\n",
       "        vertical-align: middle;\n",
       "    }\n",
       "\n",
       "    .dataframe tbody tr th {\n",
       "        vertical-align: top;\n",
       "    }\n",
       "\n",
       "    .dataframe thead th {\n",
       "        text-align: right;\n",
       "    }\n",
       "</style>\n",
       "<table border=\"1\" class=\"dataframe\">\n",
       "  <thead>\n",
       "    <tr style=\"text-align: right;\">\n",
       "      <th></th>\n",
       "      <th>video_id</th>\n",
       "      <th>comments</th>\n",
       "    </tr>\n",
       "  </thead>\n",
       "  <tbody>\n",
       "    <tr>\n",
       "      <th>0</th>\n",
       "      <td>pT3kE5hExGc</td>\n",
       "      <td>Hi Professor, How are you. once you taught how...</td>\n",
       "    </tr>\n",
       "    <tr>\n",
       "      <th>1</th>\n",
       "      <td>pT3kE5hExGc</td>\n",
       "      <td>Could you please make video on protein mutatio...</td>\n",
       "    </tr>\n",
       "    <tr>\n",
       "      <th>2</th>\n",
       "      <td>pT3kE5hExGc</td>\n",
       "      <td>without using a paid open AI API key we can't ...</td>\n",
       "    </tr>\n",
       "    <tr>\n",
       "      <th>3</th>\n",
       "      <td>pT3kE5hExGc</td>\n",
       "      <td>Pretty sure I will not even have those socks b...</td>\n",
       "    </tr>\n",
       "    <tr>\n",
       "      <th>4</th>\n",
       "      <td>pT3kE5hExGc</td>\n",
       "      <td>This sounds great !</td>\n",
       "    </tr>\n",
       "    <tr>\n",
       "      <th>...</th>\n",
       "      <td>...</td>\n",
       "      <td>...</td>\n",
       "    </tr>\n",
       "    <tr>\n",
       "      <th>2841</th>\n",
       "      <td>IYHrZx0G12w</td>\n",
       "      <td>This is great info ♥ i recently got my grade i...</td>\n",
       "    </tr>\n",
       "    <tr>\n",
       "      <th>2842</th>\n",
       "      <td>IYHrZx0G12w</td>\n",
       "      <td>Inspired to code</td>\n",
       "    </tr>\n",
       "    <tr>\n",
       "      <th>2843</th>\n",
       "      <td>IYHrZx0G12w</td>\n",
       "      <td>Sir can I become data scientist coz i have PCB...</td>\n",
       "    </tr>\n",
       "    <tr>\n",
       "      <th>2844</th>\n",
       "      <td>IYHrZx0G12w</td>\n",
       "      <td>Thank you very much for sharing your experienc...</td>\n",
       "    </tr>\n",
       "    <tr>\n",
       "      <th>2845</th>\n",
       "      <td>IYHrZx0G12w</td>\n",
       "      <td>Hey I also pursued biomedical science for my u...</td>\n",
       "    </tr>\n",
       "  </tbody>\n",
       "</table>\n",
       "<p>2846 rows × 2 columns</p>\n",
       "</div>"
      ],
      "text/plain": [
       "         video_id                                           comments\n",
       "0     pT3kE5hExGc  Hi Professor, How are you. once you taught how...\n",
       "1     pT3kE5hExGc  Could you please make video on protein mutatio...\n",
       "2     pT3kE5hExGc  without using a paid open AI API key we can't ...\n",
       "3     pT3kE5hExGc  Pretty sure I will not even have those socks b...\n",
       "4     pT3kE5hExGc                                This sounds great !\n",
       "...           ...                                                ...\n",
       "2841  IYHrZx0G12w  This is great info ♥ i recently got my grade i...\n",
       "2842  IYHrZx0G12w                                   Inspired to code\n",
       "2843  IYHrZx0G12w  Sir can I become data scientist coz i have PCB...\n",
       "2844  IYHrZx0G12w  Thank you very much for sharing your experienc...\n",
       "2845  IYHrZx0G12w  Hey I also pursued biomedical science for my u...\n",
       "\n",
       "[2846 rows x 2 columns]"
      ]
     },
     "execution_count": 8,
     "metadata": {},
     "output_type": "execute_result"
    }
   ],
   "source": [
    "df"
   ]
  },
  {
   "cell_type": "code",
   "execution_count": 9,
   "id": "d68128e4-a81b-470a-bacd-7832dd666d0f",
   "metadata": {},
   "outputs": [],
   "source": [
    "sentiments = SentimentIntensityAnalyzer()\n",
    "df[\"Positive\"] = [sentiments.polarity_scores(i)[\"pos\"] for i in df[\"comments\"]]\n",
    "df[\"Negative\"] = [sentiments.polarity_scores(i)[\"neg\"] for i in df[\"comments\"]]\n",
    "df[\"Neutral\"] = [sentiments.polarity_scores(i)[\"neu\"] for i in df[\"comments\"]]\n",
    "df['Compound'] = [sentiments.polarity_scores(i)[\"compound\"] for i in df[\"comments\"]]\n",
    "score = df[\"Compound\"].values\n",
    "sentiment = []\n",
    "for i in score:\n",
    "    if i >= 0.05 :\n",
    "        sentiment.append('Positive')\n",
    "    elif i <= -0.05 :\n",
    "        sentiment.append('Negative')\n",
    "    else:\n",
    "        sentiment.append('Neutral')\n",
    "df[\"Sentiment\"] = sentiment"
   ]
  },
  {
   "cell_type": "code",
   "execution_count": 10,
   "id": "8e9507f7-82af-4e6f-a7bb-fd8e6c8fff49",
   "metadata": {},
   "outputs": [
    {
     "data": {
      "text/html": [
       "<div>\n",
       "<style scoped>\n",
       "    .dataframe tbody tr th:only-of-type {\n",
       "        vertical-align: middle;\n",
       "    }\n",
       "\n",
       "    .dataframe tbody tr th {\n",
       "        vertical-align: top;\n",
       "    }\n",
       "\n",
       "    .dataframe thead th {\n",
       "        text-align: right;\n",
       "    }\n",
       "</style>\n",
       "<table border=\"1\" class=\"dataframe\">\n",
       "  <thead>\n",
       "    <tr style=\"text-align: right;\">\n",
       "      <th></th>\n",
       "      <th>video_id</th>\n",
       "      <th>comments</th>\n",
       "      <th>Sentiment</th>\n",
       "    </tr>\n",
       "  </thead>\n",
       "  <tbody>\n",
       "    <tr>\n",
       "      <th>0</th>\n",
       "      <td>pT3kE5hExGc</td>\n",
       "      <td>Hi Professor, How are you. once you taught how...</td>\n",
       "      <td>Neutral</td>\n",
       "    </tr>\n",
       "    <tr>\n",
       "      <th>1</th>\n",
       "      <td>pT3kE5hExGc</td>\n",
       "      <td>Could you please make video on protein mutatio...</td>\n",
       "      <td>Positive</td>\n",
       "    </tr>\n",
       "    <tr>\n",
       "      <th>2</th>\n",
       "      <td>pT3kE5hExGc</td>\n",
       "      <td>without using a paid open AI API key we can't ...</td>\n",
       "      <td>Neutral</td>\n",
       "    </tr>\n",
       "    <tr>\n",
       "      <th>3</th>\n",
       "      <td>pT3kE5hExGc</td>\n",
       "      <td>Pretty sure I will not even have those socks b...</td>\n",
       "      <td>Positive</td>\n",
       "    </tr>\n",
       "    <tr>\n",
       "      <th>4</th>\n",
       "      <td>pT3kE5hExGc</td>\n",
       "      <td>This sounds great !</td>\n",
       "      <td>Positive</td>\n",
       "    </tr>\n",
       "  </tbody>\n",
       "</table>\n",
       "</div>"
      ],
      "text/plain": [
       "      video_id                                           comments Sentiment\n",
       "0  pT3kE5hExGc  Hi Professor, How are you. once you taught how...   Neutral\n",
       "1  pT3kE5hExGc  Could you please make video on protein mutatio...  Positive\n",
       "2  pT3kE5hExGc  without using a paid open AI API key we can't ...   Neutral\n",
       "3  pT3kE5hExGc  Pretty sure I will not even have those socks b...  Positive\n",
       "4  pT3kE5hExGc                                This sounds great !  Positive"
      ]
     },
     "execution_count": 10,
     "metadata": {},
     "output_type": "execute_result"
    }
   ],
   "source": [
    "data=df.drop(['Positive','Negative','Neutral','Compound'],axis=1)\n",
    "data.head()"
   ]
  },
  {
   "cell_type": "code",
   "execution_count": 11,
   "id": "64889b02-7716-4107-81a2-38ab3c6e2ae8",
   "metadata": {},
   "outputs": [
    {
     "data": {
      "text/html": [
       "<div>\n",
       "<style scoped>\n",
       "    .dataframe tbody tr th:only-of-type {\n",
       "        vertical-align: middle;\n",
       "    }\n",
       "\n",
       "    .dataframe tbody tr th {\n",
       "        vertical-align: top;\n",
       "    }\n",
       "\n",
       "    .dataframe thead th {\n",
       "        text-align: right;\n",
       "    }\n",
       "</style>\n",
       "<table border=\"1\" class=\"dataframe\">\n",
       "  <thead>\n",
       "    <tr style=\"text-align: right;\">\n",
       "      <th></th>\n",
       "      <th>video_id</th>\n",
       "      <th>title</th>\n",
       "      <th>comments</th>\n",
       "      <th>Sentiment</th>\n",
       "    </tr>\n",
       "  </thead>\n",
       "  <tbody>\n",
       "    <tr>\n",
       "      <th>0</th>\n",
       "      <td>pT3kE5hExGc</td>\n",
       "      <td>Streamlit LLM Hackathon</td>\n",
       "      <td>Hi Professor, How are you. once you taught how...</td>\n",
       "      <td>Neutral</td>\n",
       "    </tr>\n",
       "    <tr>\n",
       "      <th>1</th>\n",
       "      <td>pT3kE5hExGc</td>\n",
       "      <td>Streamlit LLM Hackathon</td>\n",
       "      <td>Could you please make video on protein mutatio...</td>\n",
       "      <td>Positive</td>\n",
       "    </tr>\n",
       "    <tr>\n",
       "      <th>2</th>\n",
       "      <td>pT3kE5hExGc</td>\n",
       "      <td>Streamlit LLM Hackathon</td>\n",
       "      <td>without using a paid open AI API key we can't ...</td>\n",
       "      <td>Neutral</td>\n",
       "    </tr>\n",
       "    <tr>\n",
       "      <th>3</th>\n",
       "      <td>pT3kE5hExGc</td>\n",
       "      <td>Streamlit LLM Hackathon</td>\n",
       "      <td>Pretty sure I will not even have those socks b...</td>\n",
       "      <td>Positive</td>\n",
       "    </tr>\n",
       "    <tr>\n",
       "      <th>4</th>\n",
       "      <td>pT3kE5hExGc</td>\n",
       "      <td>Streamlit LLM Hackathon</td>\n",
       "      <td>This sounds great !</td>\n",
       "      <td>Positive</td>\n",
       "    </tr>\n",
       "    <tr>\n",
       "      <th>...</th>\n",
       "      <td>...</td>\n",
       "      <td>...</td>\n",
       "      <td>...</td>\n",
       "      <td>...</td>\n",
       "    </tr>\n",
       "    <tr>\n",
       "      <th>2841</th>\n",
       "      <td>IYHrZx0G12w</td>\n",
       "      <td>How a Biologist became a Data Scientist</td>\n",
       "      <td>This is great info ♥ i recently got my grade i...</td>\n",
       "      <td>Positive</td>\n",
       "    </tr>\n",
       "    <tr>\n",
       "      <th>2842</th>\n",
       "      <td>IYHrZx0G12w</td>\n",
       "      <td>How a Biologist became a Data Scientist</td>\n",
       "      <td>Inspired to code</td>\n",
       "      <td>Positive</td>\n",
       "    </tr>\n",
       "    <tr>\n",
       "      <th>2843</th>\n",
       "      <td>IYHrZx0G12w</td>\n",
       "      <td>How a Biologist became a Data Scientist</td>\n",
       "      <td>Sir can I become data scientist coz i have PCB...</td>\n",
       "      <td>Neutral</td>\n",
       "    </tr>\n",
       "    <tr>\n",
       "      <th>2844</th>\n",
       "      <td>IYHrZx0G12w</td>\n",
       "      <td>How a Biologist became a Data Scientist</td>\n",
       "      <td>Thank you very much for sharing your experienc...</td>\n",
       "      <td>Positive</td>\n",
       "    </tr>\n",
       "    <tr>\n",
       "      <th>2845</th>\n",
       "      <td>IYHrZx0G12w</td>\n",
       "      <td>How a Biologist became a Data Scientist</td>\n",
       "      <td>Hey I also pursued biomedical science for my u...</td>\n",
       "      <td>Positive</td>\n",
       "    </tr>\n",
       "  </tbody>\n",
       "</table>\n",
       "<p>2846 rows × 4 columns</p>\n",
       "</div>"
      ],
      "text/plain": [
       "         video_id                                    title  \\\n",
       "0     pT3kE5hExGc                  Streamlit LLM Hackathon   \n",
       "1     pT3kE5hExGc                  Streamlit LLM Hackathon   \n",
       "2     pT3kE5hExGc                  Streamlit LLM Hackathon   \n",
       "3     pT3kE5hExGc                  Streamlit LLM Hackathon   \n",
       "4     pT3kE5hExGc                  Streamlit LLM Hackathon   \n",
       "...           ...                                      ...   \n",
       "2841  IYHrZx0G12w  How a Biologist became a Data Scientist   \n",
       "2842  IYHrZx0G12w  How a Biologist became a Data Scientist   \n",
       "2843  IYHrZx0G12w  How a Biologist became a Data Scientist   \n",
       "2844  IYHrZx0G12w  How a Biologist became a Data Scientist   \n",
       "2845  IYHrZx0G12w  How a Biologist became a Data Scientist   \n",
       "\n",
       "                                               comments Sentiment  \n",
       "0     Hi Professor, How are you. once you taught how...   Neutral  \n",
       "1     Could you please make video on protein mutatio...  Positive  \n",
       "2     without using a paid open AI API key we can't ...   Neutral  \n",
       "3     Pretty sure I will not even have those socks b...  Positive  \n",
       "4                                   This sounds great !  Positive  \n",
       "...                                                 ...       ...  \n",
       "2841  This is great info ♥ i recently got my grade i...  Positive  \n",
       "2842                                   Inspired to code  Positive  \n",
       "2843  Sir can I become data scientist coz i have PCB...   Neutral  \n",
       "2844  Thank you very much for sharing your experienc...  Positive  \n",
       "2845  Hey I also pursued biomedical science for my u...  Positive  \n",
       "\n",
       "[2846 rows x 4 columns]"
      ]
     },
     "execution_count": 11,
     "metadata": {},
     "output_type": "execute_result"
    }
   ],
   "source": [
    "df_1 = video_df.merge(data, how = 'inner', on = 'video_id')\n",
    "data = df_1[['video_id', 'title', 'comments', 'Sentiment']]\n",
    "data"
   ]
  },
  {
   "cell_type": "markdown",
   "id": "029cdb53-4b1c-4cd1-836b-8bda5bb7f14a",
   "metadata": {},
   "source": [
    "**Sentiment Analysis of Comments**\n",
    "\n",
    "\n",
    "From the sentiment analysis of comments on the video, it was found that the majority of comments were positive, with 2048 (72%) comments in that category. There were 587 (21%) neutral comments and 211 (7%) negative comments."
   ]
  },
  {
   "cell_type": "code",
   "execution_count": 90,
   "id": "f2bc5f08-4e33-4981-aec8-4b8fda4ae1f7",
   "metadata": {},
   "outputs": [
    {
     "name": "stdout",
     "output_type": "stream",
     "text": [
      "Positive : 2048 (72.0%)\n",
      "Neutral : 587 (21.0%)\n",
      "Negative : 211 (7.0%)\n"
     ]
    },
    {
     "data": {
      "image/png": "[encoded data removed]",
      "text/plain": [
       "<Figure size 432x288 with 1 Axes>"
      ]
     },
     "metadata": {
      "needs_background": "light"
     },
     "output_type": "display_data"
    }
   ],
   "source": [
    "percent_sentiment = round(data.Sentiment.value_counts()/data.Sentiment.count() * 100,0)\n",
    "counts = data['Sentiment'].value_counts()\n",
    "\n",
    "for index in percent_sentiment.index:\n",
    "    print(f\"{index} : {counts[index]} ({percent_sentiment[index]}%)\")\n",
    "\n",
    "ax = sns.countplot(x = 'Sentiment', data = data)\n",
    "plt.show()"
   ]
  },
  {
   "cell_type": "code",
   "execution_count": 61,
   "id": "4f587d72-a017-44cf-9106-95a563f82cad",
   "metadata": {},
   "outputs": [
    {
     "data": {
      "text/plain": [
       "array([0, 1, 2, 3, 4, 5, 6, 7, 8, 9])"
      ]
     },
     "execution_count": 61,
     "metadata": {},
     "output_type": "execute_result"
    }
   ],
   "source": [
    "labels = video_df.sort_values(by='viewCount', ascending=False).head(10)\n",
    "labels = labels[['title']]\n",
    "x = np.arange(len(labels))\n",
    "x"
   ]
  },
  {
   "cell_type": "markdown",
   "id": "1fe416a2-d9e1-4a60-b5ef-7fcdb7afec9b",
   "metadata": {},
   "source": [
    "**Data transformation**"
   ]
  },
  {
   "cell_type": "code",
   "execution_count": 12,
   "id": "e2e88c7b-a3af-48d8-8fe7-e7865cdd78e1",
   "metadata": {},
   "outputs": [],
   "source": [
    "stop_words = stopwords.words('english')\n",
    "porter_stemmer = PorterStemmer()\n",
    "lancaster_stemmer = LancasterStemmer() \n",
    "snowball_stemer = SnowballStemmer(language=\"english\")\n",
    "lzr = WordNetLemmatizer()"
   ]
  },
  {
   "cell_type": "code",
   "execution_count": 62,
   "id": "25dfa950-57c8-41a7-8ece-7ac38ee0ec47",
   "metadata": {},
   "outputs": [],
   "source": [
    "def text_processing(text):   \n",
    "    # convert text into lowercase\n",
    "    text = text.lower()\n",
    "\n",
    "    # remove new line characters in text\n",
    "    text = re.sub(r'\\n',' ', text)\n",
    "    \n",
    "    # remove punctuations from text\n",
    "    text = re.sub('[%s]' % re.escape(punctuation), \"\", text)\n",
    "    \n",
    "    # remove references and hashtags from text\n",
    "    text = re.sub(\"^a-zA-Z0-9$,.\", \"\", text)\n",
    "    \n",
    "    # remove multiple spaces from text\n",
    "    text = re.sub(r'\\s+', ' ', text, flags=re.I)\n",
    "    \n",
    "    # remove special characters from text\n",
    "    text = re.sub(r'\\W', ' ', text)\n",
    "\n",
    "    text = ' '.join([word for word in word_tokenize(text) if word not in stop_words])\n",
    "    \n",
    "    # stemming using porter stemmer from nltk package - msh a7sn 7aga - momken: lancaster, snowball\n",
    "    # text=' '.join([porter_stemmer.stem(word) for word in word_tokenize(text)])\n",
    "    # text=' '.join([lancaster_stemmer.stem(word) for word in word_tokenize(text)])\n",
    "    # text=' '.join([snowball_stemer.stem(word) for word in word_tokenize(text)])\n",
    "    \n",
    "    # lemmatizer using WordNetLemmatizer from nltk package\n",
    "    text=' '.join([lzr.lemmatize(word) for word in word_tokenize(text)])\n",
    "\n",
    "    return text"
   ]
  },
  {
   "cell_type": "code",
   "execution_count": 71,
   "id": "e41df6dc-e367-4703-87cb-3e4c41da3360",
   "metadata": {},
   "outputs": [
    {
     "name": "stderr",
     "output_type": "stream",
     "text": [
      "[nltk_data] Downloading package omw-1.4 to\n",
      "[nltk_data]     C:\\Users\\Khunkan\\AppData\\Roaming\\nltk_data...\n",
      "[nltk_data]   Package omw-1.4 is already up-to-date!\n"
     ]
    }
   ],
   "source": [
    "nltk.download('omw-1.4')\n",
    "data_copy = data.copy()\n",
    "data_copy.comments = data_copy.comments.apply(lambda text: text_processing(text))"
   ]
  },
  {
   "cell_type": "markdown",
   "id": "c94ee4a2-ce5d-4f30-992c-176d5b2b96a0",
   "metadata": {},
   "source": [
    "**Lable encoding**"
   ]
  },
  {
   "cell_type": "code",
   "execution_count": 72,
   "id": "a572cc8a-0c6e-4bb0-a67b-331c8b8d9578",
   "metadata": {},
   "outputs": [],
   "source": [
    "le = LabelEncoder()\n",
    "data_copy['Sentiment'] = le.fit_transform(data_copy['Sentiment'])"
   ]
  },
  {
   "cell_type": "code",
   "execution_count": 74,
   "id": "5af69674-106d-4c2d-a1ac-30ca63a05afc",
   "metadata": {},
   "outputs": [
    {
     "data": {
      "text/html": [
       "<div>\n",
       "<style scoped>\n",
       "    .dataframe tbody tr th:only-of-type {\n",
       "        vertical-align: middle;\n",
       "    }\n",
       "\n",
       "    .dataframe tbody tr th {\n",
       "        vertical-align: top;\n",
       "    }\n",
       "\n",
       "    .dataframe thead th {\n",
       "        text-align: right;\n",
       "    }\n",
       "</style>\n",
       "<table border=\"1\" class=\"dataframe\">\n",
       "  <thead>\n",
       "    <tr style=\"text-align: right;\">\n",
       "      <th></th>\n",
       "      <th>Sentence</th>\n",
       "      <th>Sentiment</th>\n",
       "    </tr>\n",
       "  </thead>\n",
       "  <tbody>\n",
       "    <tr>\n",
       "      <th>0</th>\n",
       "      <td>hi professor taught perform bioinformatics dis...</td>\n",
       "      <td>1</td>\n",
       "    </tr>\n",
       "    <tr>\n",
       "      <th>1</th>\n",
       "      <td>could please make video protein mutation predi...</td>\n",
       "      <td>2</td>\n",
       "    </tr>\n",
       "    <tr>\n",
       "      <th>2</th>\n",
       "      <td>without using paid open ai api key cant even p...</td>\n",
       "      <td>1</td>\n",
       "    </tr>\n",
       "    <tr>\n",
       "      <th>3</th>\n",
       "      <td>pretty sure even sock still awesome hahaha</td>\n",
       "      <td>2</td>\n",
       "    </tr>\n",
       "    <tr>\n",
       "      <th>4</th>\n",
       "      <td>sound great</td>\n",
       "      <td>2</td>\n",
       "    </tr>\n",
       "  </tbody>\n",
       "</table>\n",
       "</div>"
      ],
      "text/plain": [
       "                                            Sentence  Sentiment\n",
       "0  hi professor taught perform bioinformatics dis...          1\n",
       "1  could please make video protein mutation predi...          2\n",
       "2  without using paid open ai api key cant even p...          1\n",
       "3         pretty sure even sock still awesome hahaha          2\n",
       "4                                        sound great          2"
      ]
     },
     "execution_count": 74,
     "metadata": {},
     "output_type": "execute_result"
    }
   ],
   "source": [
    "processed_data = {\n",
    "    'Sentence':data_copy.comments,\n",
    "    'Sentiment':data_copy['Sentiment']\n",
    "}\n",
    "\n",
    "processed_data = pd.DataFrame(processed_data)\n",
    "processed_data.head()"
   ]
  },
  {
   "cell_type": "markdown",
   "id": "2f4f1da5-9537-462f-822d-3875c3bc1e65",
   "metadata": {},
   "source": [
    "# Imbalance data using SMOTE\n",
    "\n",
    "Classification Algorithms: Classification get better results are obtained when the number of datasets for each group is equal. If the dataset is highly skewed, i.e. the number of individual datasets has a very different quantity, or it may be called imbalanced.\n",
    "\n",
    "The challenge of working with **imbalanced datasets** is that most machine learning techniques will ignore, and in turn have poor performance on, the minority class, although typically it is performance on the minority class that is most important.\n",
    "\n",
    "**Solution:** The simplest approach involves duplicating examples in the minority class, although these examples don’t add any new information to the model. Instead, new examples can be synthesized from the existing examples. This is a type of data augmentation for the minority class and is referred to as the Synthetic Minority Oversampling Technique, or SMOTE for short."
   ]
  },
  {
   "cell_type": "code",
   "execution_count": 88,
   "id": "3ac4b25d-1caa-4888-b9d6-5d69091759d5",
   "metadata": {},
   "outputs": [
    {
     "data": {
      "image/png": "[encoded data removed]",
      "text/plain": [
       "<Figure size 432x288 with 1 Axes>"
      ]
     },
     "metadata": {},
     "output_type": "display_data"
    }
   ],
   "source": [
    "keys = ['Positive', 'Neutral', 'Nagative']\n",
    "plt.pie(x = processed_data.Sentiment.value_counts(), data = processed_data , labels=keys , autopct='%.0f%%')\n",
    "plt.show()"
   ]
  },
  {
   "cell_type": "markdown",
   "id": "a8e5909c-de9b-4a4a-b5bc-10cfe38d3656",
   "metadata": {},
   "source": [
    "\n",
    "**Lmbalance type Over-sampling**\n",
    "\n",
    "Randomly increase the number of minority data (Minor: 'Neutral', 'Nagative' ) up to the same as Major: 'Positive' class"
   ]
  },
  {
   "cell_type": "code",
   "execution_count": 93,
   "id": "e38931d1-43fc-43df-843f-f262e6fed914",
   "metadata": {},
   "outputs": [],
   "source": [
    "df_neutral = processed_data[(processed_data['Sentiment']==1)] \n",
    "df_negative = processed_data[(processed_data['Sentiment']==0)]\n",
    "df_positive = processed_data[(processed_data['Sentiment']==2)]\n",
    "\n",
    "# upsample minority classes\n",
    "df_negative_upsampled = resample(df_negative, \n",
    "                                 replace=True,    \n",
    "                                 n_samples= 2048, \n",
    "                                 random_state=42)  \n",
    "\n",
    "df_neutral_upsampled = resample(df_neutral, \n",
    "                                 replace=True,    \n",
    "                                 n_samples= 2048, \n",
    "                                 random_state=42)  \n",
    "\n",
    "\n",
    "# Concatenate the upsampled dataframes with the neutral dataframe\n",
    "final_data = pd.concat([df_negative_upsampled,df_neutral_upsampled,df_positive])"
   ]
  },
  {
   "cell_type": "code",
   "execution_count": 94,
   "id": "361250e1-14af-4cfa-8d57-706ae70207c9",
   "metadata": {},
   "outputs": [
    {
     "data": {
      "text/plain": [
       "0    2048\n",
       "1    2048\n",
       "2    2048\n",
       "Name: Sentiment, dtype: int64"
      ]
     },
     "execution_count": 94,
     "metadata": {},
     "output_type": "execute_result"
    }
   ],
   "source": [
    "final_data['Sentiment'].value_counts()"
   ]
  },
  {
   "cell_type": "code",
   "execution_count": 97,
   "id": "f00cee78-f5c0-4a59-9b54-3eb75f0c50dd",
   "metadata": {},
   "outputs": [
    {
     "data": {
      "text/plain": [
       "['nice video unfortunately get error timecharmap codec cant decode byte 0x9d position 1207412 character map undefined',\n",
       " 'lost shannon nontut cinemad',\n",
       " 'thanks explanation definition component see slight delay displaying page cause anxiety technology',\n",
       " 'hello sir question able similar task adding r subprocess streamlit app tried deploying app show filenotfounderror errno 2 file directory rscript meaning dont r environment streamlit cloud think fix',\n",
       " 'click start get error create log file resolve']"
      ]
     },
     "execution_count": 97,
     "metadata": {},
     "output_type": "execute_result"
    }
   ],
   "source": [
    "corpus = []\n",
    "for sentence in final_data['Sentence']:\n",
    "    corpus.append(sentence)\n",
    "corpus[0:5]"
   ]
  },
  {
   "cell_type": "markdown",
   "id": "f03ecf4b-c4a4-4b1b-bb1f-b6ce4aa468ca",
   "metadata": {},
   "source": [
    "# Model training and evaluation"
   ]
  },
  {
   "cell_type": "code",
   "execution_count": 98,
   "id": "f4b18e4b-cb30-4677-9c0d-5901bd91f849",
   "metadata": {},
   "outputs": [],
   "source": [
    "from sklearn.feature_extraction.text import CountVectorizer\n",
    "cv = CountVectorizer(max_features=1500)\n",
    "X = cv.fit_transform(corpus).toarray()\n",
    "y = final_data.iloc[:, -1].values"
   ]
  },
  {
   "cell_type": "markdown",
   "id": "d23bcd41-b214-4919-ad94-457fe5d11a25",
   "metadata": {},
   "source": [
    "## Model training and evaluation: Gaussian Naïve Bayes"
   ]
  },
  {
   "cell_type": "code",
   "execution_count": 101,
   "id": "c7b5b2d4-4c6b-4f7e-bf50-3c50cd8a145c",
   "metadata": {},
   "outputs": [
    {
     "data": {
      "text/html": [
       "<style>#sk-container-id-3 {color: black;background-color: white;}#sk-container-id-3 pre{padding: 0;}#sk-container-id-3 div.sk-toggleable {background-color: white;}#sk-container-id-3 label.sk-toggleable__label {cursor: pointer;display: block;width: 100%;margin-bottom: 0;padding: 0.3em;box-sizing: border-box;text-align: center;}#sk-container-id-3 label.sk-toggleable__label-arrow:before {content: \"▸\";float: left;margin-right: 0.25em;color: #696969;}#sk-container-id-3 label.sk-toggleable__label-arrow:hover:before {color: black;}#sk-container-id-3 div.sk-estimator:hover label.sk-toggleable__label-arrow:before {color: black;}#sk-container-id-3 div.sk-toggleable__content {max-height: 0;max-width: 0;overflow: hidden;text-align: left;background-color: #f0f8ff;}#sk-container-id-3 div.sk-toggleable__content pre {margin: 0.2em;color: black;border-radius: 0.25em;background-color: #f0f8ff;}#sk-container-id-3 input.sk-toggleable__control:checked~div.sk-toggleable__content {max-height: 200px;max-width: 100%;overflow: auto;}#sk-container-id-3 input.sk-toggleable__control:checked~label.sk-toggleable__label-arrow:before {content: \"▾\";}#sk-container-id-3 div.sk-estimator input.sk-toggleable__control:checked~label.sk-toggleable__label {background-color: #d4ebff;}#sk-container-id-3 div.sk-label input.sk-toggleable__control:checked~label.sk-toggleable__label {background-color: #d4ebff;}#sk-container-id-3 input.sk-hidden--visually {border: 0;clip: rect(1px 1px 1px 1px);clip: rect(1px, 1px, 1px, 1px);height: 1px;margin: -1px;overflow: hidden;padding: 0;position: absolute;width: 1px;}#sk-container-id-3 div.sk-estimator {font-family: monospace;background-color: #f0f8ff;border: 1px dotted black;border-radius: 0.25em;box-sizing: border-box;margin-bottom: 0.5em;}#sk-container-id-3 div.sk-estimator:hover {background-color: #d4ebff;}#sk-container-id-3 div.sk-parallel-item::after {content: \"\";width: 100%;border-bottom: 1px solid gray;flex-grow: 1;}#sk-container-id-3 div.sk-label:hover label.sk-toggleable__label {background-color: #d4ebff;}#sk-container-id-3 div.sk-serial::before {content: \"\";position: absolute;border-left: 1px solid gray;box-sizing: border-box;top: 0;bottom: 0;left: 50%;z-index: 0;}#sk-container-id-3 div.sk-serial {display: flex;flex-direction: column;align-items: center;background-color: white;padding-right: 0.2em;padding-left: 0.2em;position: relative;}#sk-container-id-3 div.sk-item {position: relative;z-index: 1;}#sk-container-id-3 div.sk-parallel {display: flex;align-items: stretch;justify-content: center;background-color: white;position: relative;}#sk-container-id-3 div.sk-item::before, #sk-container-id-3 div.sk-parallel-item::before {content: \"\";position: absolute;border-left: 1px solid gray;box-sizing: border-box;top: 0;bottom: 0;left: 50%;z-index: -1;}#sk-container-id-3 div.sk-parallel-item {display: flex;flex-direction: column;z-index: 1;position: relative;background-color: white;}#sk-container-id-3 div.sk-parallel-item:first-child::after {align-self: flex-end;width: 50%;}#sk-container-id-3 div.sk-parallel-item:last-child::after {align-self: flex-start;width: 50%;}#sk-container-id-3 div.sk-parallel-item:only-child::after {width: 0;}#sk-container-id-3 div.sk-dashed-wrapped {border: 1px dashed gray;margin: 0 0.4em 0.5em 0.4em;box-sizing: border-box;padding-bottom: 0.4em;background-color: white;}#sk-container-id-3 div.sk-label label {font-family: monospace;font-weight: bold;display: inline-block;line-height: 1.2em;}#sk-container-id-3 div.sk-label-container {text-align: center;}#sk-container-id-3 div.sk-container {/* jupyter's `normalize.less` sets `[hidden] { display: none; }` but bootstrap.min.css set `[hidden] { display: none !important; }` so we also need the `!important` here to be able to override the default hidden behavior on the sphinx rendered scikit-learn.org. See: https://github.com/scikit-learn/scikit-learn/issues/21755 */display: inline-block !important;position: relative;}#sk-container-id-3 div.sk-text-repr-fallback {display: none;}</style><div id=\"sk-container-id-3\" class=\"sk-top-container\"><div class=\"sk-text-repr-fallback\"><pre>GaussianNB()</pre><b>In a Jupyter environment, please rerun this cell to show the HTML representation or trust the notebook. <br />On GitHub, the HTML representation is unable to render, please try loading this page with nbviewer.org.</b></div><div class=\"sk-container\" hidden><div class=\"sk-item\"><div class=\"sk-estimator sk-toggleable\"><input class=\"sk-toggleable__control sk-hidden--visually\" id=\"sk-estimator-id-3\" type=\"checkbox\" checked><label for=\"sk-estimator-id-3\" class=\"sk-toggleable__label sk-toggleable__label-arrow\">GaussianNB</label><div class=\"sk-toggleable__content\"><pre>GaussianNB()</pre></div></div></div></div></div>"
      ],
      "text/plain": [
       "GaussianNB()"
      ]
     },
     "execution_count": 101,
     "metadata": {},
     "output_type": "execute_result"
    }
   ],
   "source": [
    "from sklearn.naive_bayes import GaussianNB\n",
    "from sklearn.model_selection import train_test_split\n",
    "X_train, X_test, y_train, y_test = train_test_split(X, y, test_size=0.3, random_state=0)\n",
    "classifier = GaussianNB()\n",
    "classifier.fit(X_train, y_train)\n",
    "\n",
    "GaussianNB()"
   ]
  },
  {
   "cell_type": "markdown",
   "id": "7bc1c91d-c437-4a8f-94b9-fda0d43c176b",
   "metadata": {},
   "source": [
    "**Evaluation**"
   ]
  },
  {
   "cell_type": "code",
   "execution_count": 102,
   "id": "b28e769d-f50b-4ebc-a5de-fa79987ad577",
   "metadata": {},
   "outputs": [
    {
     "data": {
      "text/plain": [
       "array([[474,  19, 126],\n",
       "       [  0, 596,  15],\n",
       "       [ 13, 103, 498]], dtype=int64)"
      ]
     },
     "execution_count": 102,
     "metadata": {},
     "output_type": "execute_result"
    }
   ],
   "source": [
    "from sklearn.metrics import confusion_matrix, accuracy_score\n",
    "y_pred = classifier.predict(X_test)\n",
    "cm = confusion_matrix(y_test, y_pred)\n",
    "cm"
   ]
  },
  {
   "cell_type": "code",
   "execution_count": 103,
   "id": "7961ec94-ead1-44c7-8fb2-ec5b6a446a2b",
   "metadata": {},
   "outputs": [
    {
     "name": "stdout",
     "output_type": "stream",
     "text": [
      "accuracy 0.8503253796095445\n"
     ]
    }
   ],
   "source": [
    "nb_score = accuracy_score(y_test, y_pred)\n",
    "print('accuracy',nb_score)"
   ]
  },
  {
   "cell_type": "code",
   "execution_count": null,
   "id": "80ef6019-5de0-4f1d-b0e5-dbbe46424817",
   "metadata": {},
   "outputs": [],
   "source": []
  }
 ],
 "metadata": {
  "kernelspec": {
   "display_name": "Python 3 (ipykernel)",
   "language": "python",
   "name": "python3"
  },
  "language_info": {
   "codemirror_mode": {
    "name": "ipython",
    "version": 3
   },
   "file_extension": ".py",
   "mimetype": "text/x-python",
   "name": "python",
   "nbconvert_exporter": "python",
   "pygments_lexer": "ipython3",
   "version": "3.10.4"
  }
 },
 "nbformat": 4,
 "nbformat_minor": 5
}
